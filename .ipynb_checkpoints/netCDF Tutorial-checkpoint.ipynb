{
 "cells": [
  {
   "cell_type": "markdown",
   "metadata": {},
   "source": [
    "<img src=\"https://mintproject.github.io/MINT_USERGUIDE/Figures/mint-logo-vertical.png\" width=\"100\">\n",
    "\n",
    "# netCDF tutorial\n",
    "\n",
    "## Table of content\n",
    "[Purpose](#purpose)  \n",
    "[Example data](#example)  \n",
    "[Package requirements](#package)  \n",
    "[Getting familiar with NetCDF](#netcdf)  \n",
    "[Importing Variables](#var)\n",
    "\n",
    "## <a name='purpose'>Purpose</a>\n",
    "\n",
    "This interactive Jupyter Notebook guides the reader through the steps of opening, reading, and importing variables from a file in the NetCDF format. \n",
    "\n",
    "To know more about NetCDF, visit [https://www.unidata.ucar.edu/software/netcdf/](https://www.unidata.ucar.edu/software/netcdf/). \n",
    "\n",
    "## <a name='example'>Example data</a>\n",
    "\n",
    "This Notebook uses a monthly file from the FLDAS FLDAS_NOAH01_C_EA_M.001 resource, which can be accessed from the MINT Data Catalog.\n",
    "\n",
    "## <a name=\"package\"> Package requirements </a>\n",
    "This tutorial uses the [xarray](#http://xarray.pydata.org/en/stable/) Python package.  \n",
    "Installation instructions are available [here](#http://xarray.pydata.org/en/stable/installing.html)\n",
    "\n",
    "Import packages"
   ]
  },
  {
   "cell_type": "code",
   "execution_count": 1,
   "metadata": {},
   "outputs": [],
   "source": [
    "import xarray as xr\n",
    "import numpy as np\n",
    "import pandas as pd"
   ]
  },
  {
   "cell_type": "markdown",
   "metadata": {},
   "source": [
    "## <a name='netcdf'> Getting familiar with NetCDF </a>\n",
    "\n",
    "To open a dataset:"
   ]
  },
  {
   "cell_type": "code",
   "execution_count": 3,
   "metadata": {},
   "outputs": [],
   "source": [
    "# Set the file name\n",
    "file = 'FLDAS_NOAH01_C_EA_M.A201501.001.nc'\n",
    "# Open with xarray\n",
    "nc_fid = xr.open_dataset(file)"
   ]
  },
  {
   "cell_type": "markdown",
   "metadata": {},
   "source": [
    "The content of the netCDF is stored in a dictionary-like structure that contains:\n",
    "- dimensions of the variables within the dataset: latitude,longitude,time and bounds\n",
    "- coordinates\n",
    "- the variables in the file and associated dimensions. In this case the data is oragnized in arrays of dimenstion (time, Y,X)\n",
    "- File attributes: information about the file, including conventions, history, title..."
   ]
  },
  {
   "cell_type": "code",
   "execution_count": 4,
   "metadata": {},
   "outputs": [
    {
     "data": {
      "text/plain": [
       "<xarray.Dataset>\n",
       "Dimensions:                 (X: 294, Y: 348, bnds: 2, time: 1)\n",
       "Coordinates:\n",
       "  * time                    (time) datetime64[ns] 2015-01-01\n",
       "  * X                       (X) float64 22.05 22.15 22.25 ... 51.15 51.25 51.35\n",
       "  * Y                       (Y) float64 -11.75 -11.65 -11.55 ... 22.85 22.95\n",
       "Dimensions without coordinates: bnds\n",
       "Data variables:\n",
       "    Evap_tavg               (time, Y, X) float32 ...\n",
       "    LWdown_f_tavg           (time, Y, X) float32 ...\n",
       "    Lwnet_tavg              (time, Y, X) float32 ...\n",
       "    Psurf_f_tavg            (time, Y, X) float32 ...\n",
       "    Qair_f_tavg             (time, Y, X) float32 ...\n",
       "    Qg_tavg                 (time, Y, X) float32 ...\n",
       "    Qh_tavg                 (time, Y, X) float32 ...\n",
       "    Qle_tavg                (time, Y, X) float32 ...\n",
       "    Qs_tavg                 (time, Y, X) float32 ...\n",
       "    Qsb_tavg                (time, Y, X) float32 ...\n",
       "    RadT_tavg               (time, Y, X) float32 ...\n",
       "    Rainf_f_tavg            (time, Y, X) float32 ...\n",
       "    SM01_Percentile         (time, Y, X) float32 ...\n",
       "    SMRZ_Percentile         (time, Y, X) float32 ...\n",
       "    SWdown_f_tavg           (time, Y, X) float32 ...\n",
       "    Swnet_tavg              (time, Y, X) float32 ...\n",
       "    Tair_f_tavg             (time, Y, X) float32 ...\n",
       "    Wind_f_tavg             (time, Y, X) float32 ...\n",
       "    SoilMoi00_10cm_tavg     (time, Y, X) float32 ...\n",
       "    SoilMoi10_40cm_tavg     (time, Y, X) float32 ...\n",
       "    SoilMoi40_100cm_tavg    (time, Y, X) float32 ...\n",
       "    SoilMoi100_200cm_tavg   (time, Y, X) float32 ...\n",
       "    SoilTemp00_10cm_tavg    (time, Y, X) float32 ...\n",
       "    SoilTemp10_40cm_tavg    (time, Y, X) float32 ...\n",
       "    SoilTemp40_100cm_tavg   (time, Y, X) float32 ...\n",
       "    SoilTemp100_200cm_tavg  (time, Y, X) float32 ...\n",
       "    time_bnds               (time, bnds) float64 ...\n",
       "Attributes:\n",
       "    CDI:                       Climate Data Interface version 1.6.9 (http://m...\n",
       "    institution:               NASA GSFC\n",
       "    Conventions:               CF-1.4\n",
       "    missing_value:             -9999.0\n",
       "    NUM_SOIL_LAYERS:           4\n",
       "    SOIL_LAYER_THICKNESSES:    [ 10.        30.000002  60.000004 100.      ]\n",
       "    title:                     LIS land surface model output\n",
       "    references:                Kumar_etal_EMS_2006, Peters-Lidard_etal_ISSE_2007\n",
       "    conventions:               CF-1.6\n",
       "    comment:                   website: http://lis.gsfc.nasa.gov/\n",
       "    MAP_PROJECTION:            EQUIDISTANT CYLINDRICAL\n",
       "    SOUTH_WEST_CORNER_LAT:     -11.75\n",
       "    SOUTH_WEST_CORNER_LON:     22.05\n",
       "    DX:                        0.1\n",
       "    DY:                        0.1\n",
       "    CDO:                       Climate Data Operators version 1.6.9 (http://m...\n",
       "    nco_openmp_thread_number:  1\n",
       "    NCO:                       4.4.4\n",
       "    history:                   Thu Jul 12 10:54:34 2018: ncap2 -s time(:)={12..."
      ]
     },
     "execution_count": 4,
     "metadata": {},
     "output_type": "execute_result"
    }
   ],
   "source": [
    "nc_fid"
   ]
  },
  {
   "cell_type": "markdown",
   "metadata": {},
   "source": [
    "To get the values of the coordinates, use:"
   ]
  },
  {
   "cell_type": "code",
   "execution_count": 14,
   "metadata": {},
   "outputs": [],
   "source": [
    "lon = nc_fid.coords['X'].values\n",
    "lat = nc_fid.coords['Y'].values"
   ]
  },
  {
   "cell_type": "markdown",
   "metadata": {},
   "source": [
    "# <a name='var'> Importing Variables </a>\n",
    "\n",
    "Variables are one layer down the top dictionary. To access them:  \n",
    "`netcdfname.VarName` or `netcdfname['VarName']`. The second method is useful when the variable name contains a '.'\n",
    "\n",
    "Let's look at the precipitation variable:"
   ]
  },
  {
   "cell_type": "code",
   "execution_count": 5,
   "metadata": {},
   "outputs": [
    {
     "data": {
      "text/plain": [
       "<xarray.DataArray 'Rainf_f_tavg' (time: 1, Y: 348, X: 294)>\n",
       "[102312 values with dtype=float32]\n",
       "Coordinates:\n",
       "  * time     (time) datetime64[ns] 2015-01-01\n",
       "  * X        (X) float64 22.05 22.15 22.25 22.35 ... 51.05 51.15 51.25 51.35\n",
       "  * Y        (Y) float64 -11.75 -11.65 -11.55 -11.45 ... 22.65 22.75 22.85 22.95\n",
       "Attributes:\n",
       "    standard_name:  rainfall_flux\n",
       "    long_name:      rainfall flux\n",
       "    units:          kg m-2 s-1\n",
       "    vmin:           0.0\n",
       "    vmax:           0.02\n",
       "    cell_methods:   time:mean"
      ]
     },
     "execution_count": 5,
     "metadata": {},
     "output_type": "execute_result"
    }
   ],
   "source": [
    "nc_fid.Rainf_f_tavg"
   ]
  },
  {
   "cell_type": "markdown",
   "metadata": {},
   "source": [
    "Each variables contain:\n",
    "- coordinates (same as coordinates from the file)\n",
    "- values, stored in a numpy array\n",
    "- attributes, including a standard name, long name, units...\n",
    "\n",
    "To access the values, use the following command:"
   ]
  },
  {
   "cell_type": "code",
   "execution_count": 7,
   "metadata": {},
   "outputs": [
    {
     "data": {
      "text/plain": [
       "array([[[6.4609208e-05, 6.5833345e-05, 7.2418326e-05, ...,\n",
       "                   nan,           nan,           nan],\n",
       "        [7.4217249e-05, 6.8587142e-05, 7.8859463e-05, ...,\n",
       "                   nan,           nan,           nan],\n",
       "        [6.5496970e-05, 6.1381012e-05, 7.1118520e-05, ...,\n",
       "                   nan,           nan,           nan],\n",
       "        ...,\n",
       "        [0.0000000e+00, 0.0000000e+00, 0.0000000e+00, ...,\n",
       "         0.0000000e+00, 0.0000000e+00, 0.0000000e+00],\n",
       "        [0.0000000e+00, 0.0000000e+00, 0.0000000e+00, ...,\n",
       "         0.0000000e+00, 0.0000000e+00, 0.0000000e+00],\n",
       "        [0.0000000e+00, 0.0000000e+00, 0.0000000e+00, ...,\n",
       "         0.0000000e+00, 0.0000000e+00, 0.0000000e+00]]], dtype=float32)"
      ]
     },
     "execution_count": 7,
     "metadata": {},
     "output_type": "execute_result"
    }
   ],
   "source": [
    "P = nc_fid.Rainf_f_tavg.values\n",
    "\n",
    "P"
   ]
  },
  {
   "cell_type": "markdown",
   "metadata": {},
   "source": [
    "You can slice the array as any numpy array. For instance, to get all the data between 6 and 8°N and 23 and 27°E, use:"
   ]
  },
  {
   "cell_type": "code",
   "execution_count": 16,
   "metadata": {},
   "outputs": [
    {
     "data": {
      "text/plain": [
       "array([[[7.3543597e-05, 8.2821716e-05, 7.8084311e-05, ...,\n",
       "         8.7601751e-05, 8.8816720e-05, 8.4722742e-05],\n",
       "        [8.3743500e-05, 8.0446560e-05, 7.7239209e-05, ...,\n",
       "         8.7843058e-05, 8.0678459e-05, 8.1096223e-05],\n",
       "        [7.7611017e-05, 8.1705970e-05, 8.0230566e-05, ...,\n",
       "         8.6857326e-05, 8.4295534e-05, 8.2026265e-05],\n",
       "        ...,\n",
       "        [0.0000000e+00, 0.0000000e+00, 0.0000000e+00, ...,\n",
       "         0.0000000e+00, 0.0000000e+00, 0.0000000e+00],\n",
       "        [0.0000000e+00, 0.0000000e+00, 0.0000000e+00, ...,\n",
       "         0.0000000e+00, 0.0000000e+00, 0.0000000e+00],\n",
       "        [0.0000000e+00, 0.0000000e+00, 0.0000000e+00, ...,\n",
       "         0.0000000e+00, 0.0000000e+00, 0.0000000e+00]]], dtype=float32)"
      ]
     },
     "execution_count": 16,
     "metadata": {},
     "output_type": "execute_result"
    }
   ],
   "source": [
    "min_lat = 6\n",
    "max_lat = 8\n",
    "min_lon = 23\n",
    "max_lon = 27\n",
    "\n",
    "# Get the bounding box indices\n",
    "idx_x = np.arange(np.where(lon>min_lon)[0][0],np.where(lon<max_lon)[0][-1],1)\n",
    "idx_y = np.arange(np.where(lat>min_lat)[0][0],np.where(lat<max_lat)[0][-1],1)\n",
    "\n",
    "P_slice = P[:,idx_y,:]\n",
    "P_slice = P[:,:,idx_x]\n",
    "\n",
    "P_slice"
   ]
  },
  {
   "cell_type": "markdown",
   "metadata": {},
   "source": [
    "To take the mean of the array:"
   ]
  },
  {
   "cell_type": "code",
   "execution_count": 17,
   "metadata": {},
   "outputs": [
    {
     "data": {
      "text/plain": [
       "1.7945398e-05"
      ]
     },
     "execution_count": 17,
     "metadata": {},
     "output_type": "execute_result"
    }
   ],
   "source": [
    "P_slice_mean = np.nanmean(P_slice)\n",
    "P_slice_mean"
   ]
  }
 ],
 "metadata": {
  "kernelspec": {
   "display_name": "Python 3",
   "language": "python",
   "name": "python3"
  },
  "language_info": {
   "codemirror_mode": {
    "name": "ipython",
    "version": 3
   },
   "file_extension": ".py",
   "mimetype": "text/x-python",
   "name": "python",
   "nbconvert_exporter": "python",
   "pygments_lexer": "ipython3",
   "version": "3.6.7"
  }
 },
 "nbformat": 4,
 "nbformat_minor": 2
}
